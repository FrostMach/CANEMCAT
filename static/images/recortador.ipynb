{
 "cells": [
  {
   "cell_type": "code",
   "execution_count": 1,
   "metadata": {},
   "outputs": [
    {
     "name": "stdout",
     "output_type": "stream",
     "text": [
      "Imagen procesada correctamente. Archivo guardado en: perrot1.png\n"
     ]
    }
   ],
   "source": [
    "from rembg import remove\n",
    "from PIL import Image\n",
    "import io\n",
    "\n",
    "# Ruta de la imagen de entrada y salida\n",
    "input_path = 'perrot.png'  # Cambia esto por el nombre de tu imagen\n",
    "output_path = 'perrot1.png'\n",
    "\n",
    "try:\n",
    "    # Cargar la imagen de entrada\n",
    "    with open(input_path, 'rb') as input_file:\n",
    "        input_image = input_file.read()\n",
    "\n",
    "    # Procesar la imagen para eliminar el fondo\n",
    "    output_image = remove(input_image)\n",
    "\n",
    "    # Guardar la imagen procesada con fondo transparente\n",
    "    with open(output_path, 'wb') as output_file:\n",
    "        output_file.write(output_image)\n",
    "\n",
    "    print(f\"Imagen procesada correctamente. Archivo guardado en: {output_path}\")\n",
    "\n",
    "except Exception as e:\n",
    "    print(f\"Ocurrió un error: {e}\")\n"
   ]
  }
 ],
 "metadata": {
  "kernelspec": {
   "display_name": "Canemcat",
   "language": "python",
   "name": "python3"
  },
  "language_info": {
   "codemirror_mode": {
    "name": "ipython",
    "version": 3
   },
   "file_extension": ".py",
   "mimetype": "text/x-python",
   "name": "python",
   "nbconvert_exporter": "python",
   "pygments_lexer": "ipython3",
   "version": "3.12.7"
  }
 },
 "nbformat": 4,
 "nbformat_minor": 2
}
